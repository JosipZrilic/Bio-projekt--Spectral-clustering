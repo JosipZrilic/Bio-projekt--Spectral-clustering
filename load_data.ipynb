{
 "cells": [
  {
   "cell_type": "code",
   "execution_count": 1,
   "outputs": [],
   "source": [
    "import Bio\n",
    "import Bio.Cluster\n",
    "from Bio import SeqIO\n",
    "from Bio import AlignIO\n",
    "from Bio import pairwise2\n",
    "from scipy.spatial import distance\n",
    "import os\n",
    "import threading\n",
    "from concurrent.futures import ThreadPoolExecutor\n",
    "from concurrent.futures import ProcessPoolExecutor\n",
    "from sklearn.cluster import SpectralClustering\n",
    "from collections import Counter\n",
    "from Bio.Cluster import distancematrix\n",
    "from Bio.Phylo.TreeConstruction import DistanceCalculator\n",
    "import numpy as np"
   ],
   "metadata": {
    "collapsed": false,
    "pycharm": {
     "name": "#%%\n"
    }
   }
  },
  {
   "cell_type": "code",
   "execution_count": 2,
   "outputs": [],
   "source": [
    "DATA_PATH = \"data/DQB_filtered_reads/\"\n",
    "workers=5\n"
   ],
   "metadata": {
    "collapsed": false,
    "pycharm": {
     "name": "#%%\n"
    }
   }
  },
  {
   "cell_type": "code",
   "execution_count": 3,
   "outputs": [],
   "source": [
    "raw = []\n",
    "allFiles = os.listdir(DATA_PATH)\n",
    "def load(file):\n",
    "    i = 0\n",
    "    for record in SeqIO.parse((DATA_PATH + file), \"fastq\"):\n",
    "        raw.append(record.seq)\n",
    "        break\n",
    "\n",
    "\n",
    "with ThreadPoolExecutor(max_workers=workers) as executor:\n",
    "    executor.map(load, allFiles , chunksize=37)\n",
    "\n",
    "sequences = Counter(raw)\n"
   ],
   "metadata": {
    "collapsed": false,
    "pycharm": {
     "name": "#%%\n"
    }
   }
  },
  {
   "cell_type": "code",
   "execution_count": 12,
   "outputs": [],
   "source": [
    "x=sequences.keys()\n",
    "c=sequences.values()\n",
    "l= []\n",
    "for i in  x:\n",
    "    l.append(list(i))\n"
   ],
   "metadata": {
    "collapsed": false,
    "pycharm": {
     "name": "#%%\n"
    }
   }
  },
  {
   "cell_type": "code",
   "execution_count": 5,
   "outputs": [
    {
     "data": {
      "text/plain": "dict_values([91, 18, 1, 1, 1, 11, 18, 1, 8, 11, 1, 1, 1, 1, 1, 1, 1, 1, 1, 1, 1, 1, 1, 1, 1, 1, 1, 1, 1, 1, 1, 1, 1, 1])"
     },
     "execution_count": 5,
     "metadata": {},
     "output_type": "execute_result"
    }
   ],
   "source": [
    "c\n"
   ],
   "metadata": {
    "collapsed": false,
    "pycharm": {
     "name": "#%%\n"
    }
   }
  },
  {
   "cell_type": "code",
   "execution_count": 13,
   "outputs": [
    {
     "data": {
      "text/plain": "dict_keys([Seq('GGCCAGTGCTACTTCACCAACGGGACGGAGCGGGTGCGGGGTGTGGACAGATAC...TGC'), Seq('GGCGAGTGCTACTTCACCAACGGGACAGAGCGGGTGCGGGGTGTGACCAGACAC...TGC'), Seq('TGCGAGGGCTACTTCACCAACGGGACGGAGCGGGTGCGGTACCTGAACAGATAC...TGC'), Seq('GGCGAGTGCTACTTCACCAACGGGACAGAGCGGGTGCGGGGTGTGACCAGATAC...TGC'), Seq('GGCGAGTGCTACTTCACCAACGGGACAGAGCGGGTGCGGGGTGTGGCCAGATAC...TGC'), Seq('TGCGAGTGCTACTTCACCAACGGGACGGAGCGGGTGCGGTACCTGAACAGATAC...TGC'), Seq('GGCGAGTGCTACTTCACCAACGGGACAGAGCGGGTGCGGCTCCTGACCAGATAC...TGC'), Seq('GGCGAGTGCTACTTCACCAACGGGACAGAGCGGGTGCGGGGTGTGACCAGATAC...TGC'), Seq('GGCGAGTGCTACTTCACCAACGGGACAGAGCGGGTGCGGGGTGTGACCAGATAC...TGC'), Seq('GGCGAGTGCTACTTCACCAACGGGACGGAGCGGGTACGGGGTGTGGACAGATAC...TGC'), Seq('GGCCAGTGCTACTTCACCAACGGGACGGAGCGGGTGCGGGGTGTGGACAGATAC...TGC'), Seq('GGCGAGTGCTACTTCACCAACGGGACAGAGCGGGTGCGGGGTGTGACCAGACGC...TGC'), Seq('GGCCAGTGCTACTTCACCAACGGGACGGAGCGGGTGCGGGGTGTGGACAGATAC...TGC'), Seq('GGCGAGTGCTACTTCACCAACGGGACAGAGCGGATGCGGGGTGTGACCAGATAC...TGC'), Seq('GGCCAGTGCTACTTCACCAACGGGACGGAGCGGGTGCGGGGTGTGGACAGATAC...TGC'), Seq('GGCAAGTGCTACTTCACCAACGGGACGGAGCGGGTGCGGGGTGTGGACAGATAC...TGC'), Seq('GGCCAGTGCTACTTCACCAACGGGACGGAGCGGGTGCGGGGTGTGGACAGATAC...TGC'), Seq('GGCGAGTGCTACTTCACCAACGGGACAGGGCGGGTGCGGGGTGTGACCAGACAC...TGC'), Seq('GGCGAGTGCTACTTCACCAACGGGACAGAGCGGGTGCGGGGTGTGACCAGACAC...TGT'), Seq('GGCCAGTGCTACTTCACCAACGGGACGGAGCGGGTGCGGGGTGTGGACAGATAT...TGC'), Seq('GGCCAGTGCTACTTCACCAACGGGACGGAGCGGGTGCGGGGTGTGGACAGATAC...TGC'), Seq('GGCCAGTGCTACTTCACCAACGGGACGGAGCGGGTGCGGGGTGTGGACAGATAC...TGC'), Seq('GGCGAGTGCTACTTCACCAACGGGACAGAGCGGGTGCGGGGTGTGACCAGACAC...TGC'), Seq('GGCCAGTGCTACTTCACCAACGGGACGGAGCGGGTGCGGGGTGTGGACAGATAC...TGC'), Seq('GGCGAGTGCTACTTCACCAACGGGACAGAGCGGGTGCGGGGTGTGACCAGACAC...TGC'), Seq('GGCCAGTGCTACTTCACCAACGGGACGGAGCGGGTGCGGGGTGTGGACAGATAC...TGC'), Seq('GGCCAGTGCTACTTCACCAACGGGACGGAGCGGGTGCGGGGTGTGGACAGATAC...TGC'), Seq('GGCCAGTGCTACTTCACCAACGGGACGGAGCGGGTGCGGGGTGTGGACAGATAC...TGC'), Seq('GGCCAGTGCTACTTCACCAACGGGACGGAGCGGGTGCGGGGTGTGGACAGATAC...TGC'), Seq('GGCCAGTGCTACTTCACCAACGGGACGGAGCGGGTGCGGGGTGTGGACAGATAC...TGC'), Seq('GGCCAGTGCTACTTCACCAACGGGACGGGGCGGGTGCGGGGTGTGGACAGATAC...TGC'), Seq('GGCGAGTGCTACTTCACCAACGGGACAGAGCGGGTGCGGGGTGTGACCAGATAC...TGC'), Seq('GGCCAGTGCTACTTCACCAACGGGACGGAGCGGGTGCGGGGTGTGGACAGATAC...TGC'), Seq('GGCCAGTGCTACTTCACCAACGGGACGGAGCGGGTGCGGGGCGTGGACAGATAC...TGC')])"
     },
     "execution_count": 13,
     "metadata": {},
     "output_type": "execute_result"
    }
   ],
   "source": [
    "x"
   ],
   "metadata": {
    "collapsed": false,
    "pycharm": {
     "name": "#%%\n"
    }
   }
  },
  {
   "cell_type": "code",
   "execution_count": 10,
   "outputs": [],
   "source": [
    "n=len(c)\n",
    "sim=np.zeros((n,n))\n",
    "\n",
    "for i in range (0,len(l)):\n",
    "    for j in range (0,i):\n",
    "        sim[i][j]=distance.hamming(l[i],l[j])\n",
    "\n"
   ],
   "metadata": {
    "collapsed": false,
    "pycharm": {
     "name": "#%%\n"
    }
   }
  },
  {
   "cell_type": "code",
   "execution_count": 11,
   "outputs": [
    {
     "name": "stdout",
     "output_type": "stream",
     "text": [
      "[0. 0. 0. 0. 0. 0. 0. 0. 0. 0. 0. 0. 0. 0. 0. 0. 0. 0. 0. 0. 0. 0. 0. 0.\n",
      " 0. 0. 0. 0. 0. 0. 0. 0. 0. 0.]\n",
      "[0.12935323 0.         0.         0.         0.         0.\n",
      " 0.         0.         0.         0.         0.         0.\n",
      " 0.         0.         0.         0.         0.         0.\n",
      " 0.         0.         0.         0.         0.         0.\n",
      " 0.         0.         0.         0.         0.         0.\n",
      " 0.         0.         0.         0.        ]\n",
      "[0.10447761 0.11940299 0.         0.         0.         0.\n",
      " 0.         0.         0.         0.         0.         0.\n",
      " 0.         0.         0.         0.         0.         0.\n",
      " 0.         0.         0.         0.         0.         0.\n",
      " 0.         0.         0.         0.         0.         0.\n",
      " 0.         0.         0.         0.        ]\n",
      "[0.10945274 0.039801   0.09950249 0.         0.         0.\n",
      " 0.         0.         0.         0.         0.         0.\n",
      " 0.         0.         0.         0.         0.         0.\n",
      " 0.         0.         0.         0.         0.         0.\n",
      " 0.         0.         0.         0.         0.         0.\n",
      " 0.         0.         0.         0.        ]\n",
      "[0.09950249 0.039801   0.09950249 0.00995025 0.         0.\n",
      " 0.         0.         0.         0.         0.         0.\n",
      " 0.         0.         0.         0.         0.         0.\n",
      " 0.         0.         0.         0.         0.         0.\n",
      " 0.         0.         0.         0.         0.         0.\n",
      " 0.         0.         0.         0.        ]\n",
      "[0.09950249 0.11442786 0.00497512 0.09452736 0.09452736 0.\n",
      " 0.         0.         0.         0.         0.         0.\n",
      " 0.         0.         0.         0.         0.         0.\n",
      " 0.         0.         0.         0.         0.         0.\n",
      " 0.         0.         0.         0.         0.         0.\n",
      " 0.         0.         0.         0.        ]\n",
      "[0.13432836 0.07462687 0.09452736 0.07462687 0.07462687 0.08955224\n",
      " 0.         0.         0.         0.         0.         0.\n",
      " 0.         0.         0.         0.         0.         0.\n",
      " 0.         0.         0.         0.         0.         0.\n",
      " 0.         0.         0.         0.         0.         0.\n",
      " 0.         0.         0.         0.        ]\n",
      "[0.10945274 0.039801   0.09950249 0.00995025 0.00995025 0.09452736\n",
      " 0.07462687 0.         0.         0.         0.         0.\n",
      " 0.         0.         0.         0.         0.         0.\n",
      " 0.         0.         0.         0.         0.         0.\n",
      " 0.         0.         0.         0.         0.         0.\n",
      " 0.         0.         0.         0.        ]\n",
      "[0.10447761 0.03482587 0.09452736 0.00497512 0.00497512 0.08955224\n",
      " 0.06965174 0.00497512 0.         0.         0.         0.\n",
      " 0.         0.         0.         0.         0.         0.\n",
      " 0.         0.         0.         0.         0.         0.\n",
      " 0.         0.         0.         0.         0.         0.\n",
      " 0.         0.         0.         0.        ]\n",
      "[0.06965174 0.09452736 0.04477612 0.07462687 0.06467662 0.039801\n",
      " 0.10945274 0.07462687 0.06965174 0.         0.         0.\n",
      " 0.         0.         0.         0.         0.         0.\n",
      " 0.         0.         0.         0.         0.         0.\n",
      " 0.         0.         0.         0.         0.         0.\n",
      " 0.         0.         0.         0.        ]\n",
      "[0.00497512 0.13432836 0.10945274 0.11442786 0.10447761 0.10447761\n",
      " 0.13930348 0.11442786 0.10945274 0.07462687 0.         0.\n",
      " 0.         0.         0.         0.         0.         0.\n",
      " 0.         0.         0.         0.         0.         0.\n",
      " 0.         0.         0.         0.         0.         0.\n",
      " 0.         0.         0.         0.        ]\n",
      "[0.13432836 0.00497512 0.12437811 0.04477612 0.04477612 0.11940299\n",
      " 0.07960199 0.04477612 0.039801   0.09950249 0.13930348 0.\n",
      " 0.         0.         0.         0.         0.         0.\n",
      " 0.         0.         0.         0.         0.         0.\n",
      " 0.         0.         0.         0.         0.         0.\n",
      " 0.         0.         0.         0.        ]\n",
      "[0.00497512 0.12437811 0.10945274 0.10447761 0.09452736 0.10447761\n",
      " 0.12935323 0.10447761 0.09950249 0.07462687 0.00995025 0.12935323\n",
      " 0.         0.         0.         0.         0.         0.\n",
      " 0.         0.         0.         0.         0.         0.\n",
      " 0.         0.         0.         0.         0.         0.\n",
      " 0.         0.         0.         0.        ]\n",
      "[0.10945274 0.039801   0.09950249 0.00995025 0.00995025 0.09452736\n",
      " 0.07462687 0.00995025 0.00497512 0.07462687 0.11442786 0.04477612\n",
      " 0.10447761 0.         0.         0.         0.         0.\n",
      " 0.         0.         0.         0.         0.         0.\n",
      " 0.         0.         0.         0.         0.         0.\n",
      " 0.         0.         0.         0.        ]\n",
      "[0.00497512 0.13432836 0.10945274 0.11442786 0.10447761 0.10447761\n",
      " 0.13930348 0.11442786 0.10945274 0.07462687 0.00995025 0.13930348\n",
      " 0.00995025 0.11442786 0.         0.         0.         0.\n",
      " 0.         0.         0.         0.         0.         0.\n",
      " 0.         0.         0.         0.         0.         0.\n",
      " 0.         0.         0.         0.        ]\n",
      "[0.00497512 0.12935323 0.10447761 0.10945274 0.09950249 0.09950249\n",
      " 0.13432836 0.10945274 0.10447761 0.06965174 0.00995025 0.13432836\n",
      " 0.00995025 0.10945274 0.00995025 0.         0.         0.\n",
      " 0.         0.         0.         0.         0.         0.\n",
      " 0.         0.         0.         0.         0.         0.\n",
      " 0.         0.         0.         0.        ]\n",
      "[0.00497512 0.12935323 0.10447761 0.10945274 0.09950249 0.09950249\n",
      " 0.13930348 0.10945274 0.10447761 0.06965174 0.00995025 0.13432836\n",
      " 0.00995025 0.10945274 0.00995025 0.00995025 0.         0.\n",
      " 0.         0.         0.         0.         0.         0.\n",
      " 0.         0.         0.         0.         0.         0.\n",
      " 0.         0.         0.         0.        ]\n",
      "[0.13432836 0.00497512 0.12437811 0.04477612 0.04477612 0.11940299\n",
      " 0.07960199 0.04477612 0.039801   0.09950249 0.13930348 0.00995025\n",
      " 0.12935323 0.04477612 0.13930348 0.13432836 0.13432836 0.\n",
      " 0.         0.         0.         0.         0.         0.\n",
      " 0.         0.         0.         0.         0.         0.\n",
      " 0.         0.         0.         0.        ]\n",
      "[0.13432836 0.00497512 0.12437811 0.04477612 0.04477612 0.11940299\n",
      " 0.07960199 0.04477612 0.039801   0.09950249 0.13930348 0.00995025\n",
      " 0.12935323 0.04477612 0.13930348 0.13432836 0.13432836 0.00995025\n",
      " 0.         0.         0.         0.         0.         0.\n",
      " 0.         0.         0.         0.         0.         0.\n",
      " 0.         0.         0.         0.        ]\n",
      "[0.00497512 0.13432836 0.10945274 0.11442786 0.10447761 0.10447761\n",
      " 0.13930348 0.11442786 0.10945274 0.07462687 0.00995025 0.13930348\n",
      " 0.00995025 0.11442786 0.00995025 0.00995025 0.00995025 0.13930348\n",
      " 0.13930348 0.         0.         0.         0.         0.\n",
      " 0.         0.         0.         0.         0.         0.\n",
      " 0.         0.         0.         0.        ]\n",
      "[0.00497512 0.13432836 0.10945274 0.11442786 0.10447761 0.10447761\n",
      " 0.13930348 0.11442786 0.10945274 0.07462687 0.00995025 0.13930348\n",
      " 0.00995025 0.11442786 0.00995025 0.00995025 0.00995025 0.13930348\n",
      " 0.13930348 0.00995025 0.         0.         0.         0.\n",
      " 0.         0.         0.         0.         0.         0.\n",
      " 0.         0.         0.         0.        ]\n",
      "[0.00497512 0.12935323 0.10945274 0.11442786 0.10447761 0.10447761\n",
      " 0.13930348 0.11442786 0.10945274 0.07462687 0.00995025 0.13432836\n",
      " 0.00995025 0.11442786 0.00995025 0.00995025 0.00995025 0.13432836\n",
      " 0.13432836 0.00995025 0.00995025 0.         0.         0.\n",
      " 0.         0.         0.         0.         0.         0.\n",
      " 0.         0.         0.         0.        ]\n",
      "[0.08955224 0.07462687 0.04477612 0.06467662 0.06467662 0.039801\n",
      " 0.08955224 0.06467662 0.05970149 0.02985075 0.09452736 0.07960199\n",
      " 0.09452736 0.06467662 0.09452736 0.08955224 0.08955224 0.07960199\n",
      " 0.07960199 0.09452736 0.09452736 0.09452736 0.         0.\n",
      " 0.         0.         0.         0.         0.         0.\n",
      " 0.         0.         0.         0.        ]\n",
      "[0.00497512 0.13432836 0.10945274 0.11442786 0.10447761 0.10447761\n",
      " 0.13930348 0.11442786 0.10945274 0.07462687 0.00995025 0.13930348\n",
      " 0.00995025 0.11442786 0.00995025 0.00995025 0.00995025 0.13930348\n",
      " 0.13930348 0.00995025 0.00995025 0.00995025 0.09452736 0.\n",
      " 0.         0.         0.         0.         0.         0.\n",
      " 0.         0.         0.         0.        ]\n",
      "[0.13432836 0.00497512 0.12437811 0.04477612 0.04477612 0.11940299\n",
      " 0.07960199 0.04477612 0.039801   0.09950249 0.13930348 0.00995025\n",
      " 0.12935323 0.04477612 0.13930348 0.13432836 0.13432836 0.00995025\n",
      " 0.00995025 0.13930348 0.13930348 0.13432836 0.07960199 0.13930348\n",
      " 0.         0.         0.         0.         0.         0.\n",
      " 0.         0.         0.         0.        ]\n",
      "[0.00497512 0.13432836 0.10945274 0.11442786 0.10447761 0.10447761\n",
      " 0.13930348 0.10447761 0.10945274 0.07462687 0.00995025 0.13930348\n",
      " 0.00995025 0.11442786 0.00995025 0.00995025 0.00995025 0.13930348\n",
      " 0.13930348 0.00995025 0.00995025 0.00995025 0.09452736 0.00995025\n",
      " 0.13930348 0.         0.         0.         0.         0.\n",
      " 0.         0.         0.         0.        ]\n",
      "[0.00497512 0.13432836 0.10945274 0.11442786 0.10447761 0.10447761\n",
      " 0.13930348 0.11442786 0.10945274 0.07462687 0.00995025 0.13930348\n",
      " 0.00995025 0.11442786 0.00995025 0.00995025 0.00995025 0.13930348\n",
      " 0.13930348 0.00995025 0.00995025 0.00995025 0.09452736 0.00995025\n",
      " 0.13930348 0.00995025 0.         0.         0.         0.\n",
      " 0.         0.         0.         0.        ]\n",
      "[0.00497512 0.13432836 0.10945274 0.11442786 0.10447761 0.10447761\n",
      " 0.13930348 0.11442786 0.10945274 0.07462687 0.00995025 0.13930348\n",
      " 0.00995025 0.11442786 0.00995025 0.00995025 0.00995025 0.13930348\n",
      " 0.13930348 0.00995025 0.00995025 0.00995025 0.09452736 0.00995025\n",
      " 0.13930348 0.00995025 0.00995025 0.         0.         0.\n",
      " 0.         0.         0.         0.        ]\n",
      "[0.00497512 0.13432836 0.10945274 0.11442786 0.10447761 0.10447761\n",
      " 0.13930348 0.11442786 0.10945274 0.07462687 0.00995025 0.13930348\n",
      " 0.00995025 0.11442786 0.00995025 0.00995025 0.00995025 0.13930348\n",
      " 0.13930348 0.00995025 0.00995025 0.00995025 0.09452736 0.00995025\n",
      " 0.13930348 0.00995025 0.00995025 0.00995025 0.         0.\n",
      " 0.         0.         0.         0.        ]\n",
      "[0.00497512 0.13432836 0.10945274 0.11442786 0.10447761 0.10447761\n",
      " 0.13930348 0.11442786 0.10945274 0.07462687 0.00995025 0.13930348\n",
      " 0.00995025 0.11442786 0.00995025 0.00995025 0.00995025 0.13930348\n",
      " 0.13930348 0.00995025 0.00995025 0.00995025 0.09452736 0.00995025\n",
      " 0.13930348 0.00995025 0.00995025 0.00995025 0.00995025 0.\n",
      " 0.         0.         0.         0.        ]\n",
      "[0.00497512 0.13432836 0.10945274 0.11442786 0.10447761 0.10447761\n",
      " 0.13930348 0.11442786 0.10945274 0.07462687 0.00995025 0.13930348\n",
      " 0.00995025 0.11442786 0.00995025 0.00995025 0.00995025 0.12935323\n",
      " 0.13930348 0.00995025 0.00995025 0.00995025 0.09452736 0.00995025\n",
      " 0.13930348 0.00995025 0.00995025 0.00995025 0.00995025 0.00995025\n",
      " 0.         0.         0.         0.        ]\n",
      "[0.11442786 0.03482587 0.10447761 0.01492537 0.01492537 0.09950249\n",
      " 0.07960199 0.01492537 0.00995025 0.07960199 0.11940299 0.039801\n",
      " 0.10945274 0.01492537 0.11940299 0.11442786 0.11442786 0.039801\n",
      " 0.039801   0.11940299 0.11940299 0.11442786 0.06965174 0.11940299\n",
      " 0.039801   0.11940299 0.11940299 0.11940299 0.11940299 0.11940299\n",
      " 0.11940299 0.         0.         0.        ]\n",
      "[0.00497512 0.13432836 0.10945274 0.11442786 0.10447761 0.10447761\n",
      " 0.13930348 0.11442786 0.10945274 0.07462687 0.00995025 0.13930348\n",
      " 0.00995025 0.11442786 0.00995025 0.00995025 0.00995025 0.13930348\n",
      " 0.13930348 0.00995025 0.00995025 0.00995025 0.09452736 0.00995025\n",
      " 0.13930348 0.00995025 0.00995025 0.00995025 0.00995025 0.00995025\n",
      " 0.00995025 0.11940299 0.         0.        ]\n",
      "[0.00497512 0.13432836 0.09950249 0.11442786 0.10447761 0.09452736\n",
      " 0.12935323 0.11442786 0.10945274 0.07462687 0.00995025 0.13930348\n",
      " 0.00995025 0.11442786 0.00995025 0.00995025 0.00995025 0.13930348\n",
      " 0.13930348 0.00995025 0.00995025 0.00995025 0.09452736 0.00995025\n",
      " 0.13930348 0.00995025 0.00995025 0.00995025 0.00995025 0.00995025\n",
      " 0.00995025 0.11940299 0.00995025 0.        ]\n"
     ]
    }
   ],
   "source": [
    "for i in sim:\n",
    "    print(i)"
   ],
   "metadata": {
    "collapsed": false,
    "pycharm": {
     "name": "#%%\n"
    }
   }
  },
  {
   "cell_type": "code",
   "execution_count": null,
   "outputs": [],
   "source": [
    "alk= Bio.Cluster.kmedoids(sim, nclusters=10,npass=20)"
   ],
   "metadata": {
    "collapsed": false,
    "pycharm": {
     "name": "#%%\n"
    }
   }
  },
  {
   "cell_type": "code",
   "execution_count": null,
   "outputs": [],
   "source": [
    "alk"
   ],
   "metadata": {
    "collapsed": false,
    "pycharm": {
     "name": "#%%\n"
    }
   }
  },
  {
   "cell_type": "code",
   "execution_count": 22,
   "metadata": {
    "pycharm": {
     "name": "#%%\n"
    }
   },
   "outputs": [],
   "source": [
    "\n",
    "sim=[[0 for i in range(len(l))] for j in range(len(l))]\n",
    "\n",
    "for i in range (0,len(l)):\n",
    "    for j in range (0,i):\n",
    "        sim[i][j]=distance.hamming(l[i],l[j])\n",
    "\n"
   ]
  },
  {
   "cell_type": "code",
   "execution_count": null,
   "outputs": [],
   "source": [
    "for i in sim:\n",
    "    print(i)"
   ],
   "metadata": {
    "collapsed": false,
    "pycharm": {
     "name": "#%%\n",
     "is_executing": true
    }
   }
  },
  {
   "cell_type": "code",
   "execution_count": 15,
   "outputs": [],
   "source": [
    "alk= Bio.Cluster.kmedoids(sim, nclusters=10,npass=20)"
   ],
   "metadata": {
    "collapsed": false,
    "pycharm": {
     "name": "#%%\n"
    }
   }
  },
  {
   "cell_type": "code",
   "execution_count": 16,
   "outputs": [
    {
     "data": {
      "text/plain": "(array([ 0,  1,  6,  8,  8,  5,  6,  8,  8,  6, 10,  0, 12,  8,  1, 15,  1,\n         0,  0,  1,  1,  1,  1,  6, 24,  1,  1,  1,  1,  1,  1,  1, 32,  1],\n       dtype=int32),\n 0.1890547263681593,\n 1)"
     },
     "execution_count": 16,
     "metadata": {},
     "output_type": "execute_result"
    }
   ],
   "source": [
    "alk"
   ],
   "metadata": {
    "collapsed": false,
    "pycharm": {
     "name": "#%%\n"
    }
   }
  },
  {
   "cell_type": "code",
   "execution_count": null,
   "outputs": [],
   "source": [],
   "metadata": {
    "collapsed": false,
    "pycharm": {
     "name": "#%%\n"
    }
   }
  }
 ],
 "metadata": {
  "kernelspec": {
   "display_name": "Python 3 (ipykernel)",
   "language": "python",
   "name": "python3"
  },
  "language_info": {
   "codemirror_mode": {
    "name": "ipython",
    "version": 3
   },
   "file_extension": ".py",
   "mimetype": "text/x-python",
   "name": "python",
   "nbconvert_exporter": "python",
   "pygments_lexer": "ipython3",
   "version": "3.9.12"
  }
 },
 "nbformat": 4,
 "nbformat_minor": 1
}