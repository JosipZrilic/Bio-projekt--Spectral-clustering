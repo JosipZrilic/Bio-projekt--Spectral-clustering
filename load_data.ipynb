{
 "cells": [
  {
   "cell_type": "code",
   "execution_count": 51,
   "outputs": [],
   "source": [
    "import Bio\n",
    "import Bio.Cluster\n",
    "from Bio import SeqIO\n",
    "from Bio import AlignIO\n",
    "from Bio import pairwise2\n",
    "from scipy.spatial import distance\n",
    "import os\n",
    "import json\n",
    "import time\n",
    "from sklearn.decomposition import PCA\n",
    "import threading\n",
    "from concurrent.futures import ThreadPoolExecutor\n",
    "from concurrent.futures import ProcessPoolExecutor\n",
    "from sklearn.cluster import SpectralClustering, DBSCAN\n",
    "from sklearn.cluster import KMeans\n",
    "from collections import Counter\n",
    "from Bio.Cluster import distancematrix\n",
    "from Bio.Phylo.TreeConstruction import DistanceCalculator\n",
    "import numpy as np\n",
    "import matplotlib.pyplot as plt\n",
    "def hamming_distance_4(s_1, s_2):\n",
    "    return sum(x != y for x, y in zip(s_1, s_2))\n"
   ],
   "metadata": {
    "collapsed": false
   }
  },
  {
   "cell_type": "code",
   "execution_count": 52,
   "outputs": [],
   "source": [
    "def task(file):\n",
    "    sequences1=[]\n",
    "    DATA_PATH = \"data/DRB_filtered_reads/\"\n",
    "    DATA_PATH2 = \"data/DRB_Matrix/\"\n",
    "    for record2 in SeqIO.parse(DATA_PATH + file, \"fastq\"):\n",
    "        sequences1.append(record2.seq)\n",
    "    seqs = Counter(sequences1)\n",
    "    useqs = list(seqs.keys())\n",
    "    usegscount= list(seqs.values())\n",
    "    n = len(useqs)\n",
    "    X = np.zeros((n, n))\n",
    "    for i in range(n):\n",
    "        for j in range(0 , i):\n",
    "            X[i][j] = X[j][i] = hamming_distance_4(useqs[i], useqs[j])\n",
    "    name = os.path.splitext(file)[0]\n",
    "    fs= DATA_PATH2+name+\".json\"\n",
    "    X2 = X.tolist()\n",
    "    json.dump(X2,open(fs, \"w\"))\n",
    "    return seqs"
   ],
   "metadata": {
    "collapsed": false
   }
  },
  {
   "cell_type": "code",
   "execution_count": 53,
   "outputs": [],
   "source": [
    "DATA_PATH = \"data/DRB_filtered_reads/\"\n",
    "DATA_PATH2 = \"data/DRB_Matrix/\""
   ],
   "metadata": {
    "collapsed": false
   }
  },
  {
   "cell_type": "code",
   "execution_count": 55,
   "outputs": [],
   "source": [
    "allFiles = os.listdir(DATA_PATH)\n",
    "allfiles= allFiles[0:2]\n",
    "for file in allfiles:\n",
    "    task(file)\n",
    "\n"
   ],
   "metadata": {
    "collapsed": false
   }
  },
  {
   "cell_type": "code",
   "execution_count": 49,
   "outputs": [
    {
     "name": "stdout",
     "output_type": "stream",
     "text": [
      "[[ 0. 10. 17. ...  2.  2. 10.]\n",
      " [10.  0. 15. ... 12. 12.  2.]\n",
      " [17. 15.  0. ... 19. 19. 16.]\n",
      " ...\n",
      " [ 2. 12. 19. ...  0.  4. 12.]\n",
      " [ 2. 12. 19. ...  4.  0. 12.]\n",
      " [10.  2. 16. ... 12. 12.  0.]]\n"
     ]
    }
   ],
   "source": [
    "\n",
    "H = json.load(open(fs,\"r\"))\n",
    "H = np.array(H)\n",
    "print(H)"
   ],
   "metadata": {
    "collapsed": false
   }
  },
  {
   "cell_type": "code",
   "execution_count": 8,
   "outputs": [
    {
     "name": "stdout",
     "output_type": "stream",
     "text": [
      "[[-287.75498184   14.08358564]\n",
      " [ -99.08985875 -266.53811523]\n",
      " [ 403.09719608  -36.1020556 ]\n",
      " ...\n",
      " [-260.11959022   65.45980114]\n",
      " [-258.81520871   66.2453953 ]\n",
      " [-102.34588997 -214.47287224]]\n"
     ]
    }
   ],
   "source": [
    " pca= PCA(n_components=2, svd_solver='arpack')\n",
    "S=pca.fit_transform(X)\n",
    "s1, s2 = S.T\n",
    "\n",
    "\n",
    "\n",
    "print(S)"
   ],
   "metadata": {
    "collapsed": false
   }
  },
  {
   "cell_type": "code",
   "execution_count": 22,
   "outputs": [
    {
     "name": "stdout",
     "output_type": "stream",
     "text": [
      "2470\n",
      "2470\n",
      "[0 1 2 ... 0 0 1]\n"
     ]
    },
    {
     "data": {
      "text/plain": "<matplotlib.collections.PathCollection at 0x1eccc5e79a0>"
     },
     "execution_count": 22,
     "metadata": {},
     "output_type": "execute_result"
    },
    {
     "data": {
      "text/plain": "<Figure size 432x288 with 1 Axes>",
      "image/png": "[encoded data removed]"
     },
     "metadata": {
      "needs_background": "light"
     },
     "output_type": "display_data"
    }
   ],
   "source": [
    "\n",
    "\n",
    "spectral = SpectralClustering(\n",
    "        n_clusters=6,\n",
    "        eigen_solver=\"arpack\",\n",
    "        assign_labels=\"discretize\",\n",
    "        affinity=\"precomputed_nearest_neighbors\",\n",
    ")\n",
    "\n",
    "\n",
    "dbscan = DBSCAN(eps=2, min_samples=300, metric=\"precomputed\")\n",
    "\n",
    "Z= spectral.fit_predict(X)\n",
    "Y  = dbscan.fit_predict(X,sample_weight=usegscount)\n",
    "print(len(X))\n",
    "print(len(Y))\n",
    "colors = np.array([\"#4B0082\",\"#008080\",\"#2F4F4F\",\"#D8BFD8\",\"#8B4513\",\"#808080\",\"#FF6347\",\"#F0F8FF\",\"#D3D3D3\",\"#4169E1\",\"#DA70D6\",\"#FFFFFF\",\"#DB7093\",\"#87CEEB\",\"#F8F8FF\",\"#FFB6C1\",\"#FAEBD7\",\"#9ACD32\",\"#A9A9A9\",\"red\"])\n",
    "print(Y)\n",
    "plt.scatter(s1, s2, s=1, color=colors[Y])\n"
   ],
   "metadata": {
    "collapsed": false
   }
  },
  {
   "cell_type": "code",
   "execution_count": 18,
   "outputs": [
    {
     "ename": "NameError",
     "evalue": "name 'l' is not defined",
     "output_type": "error",
     "traceback": [
      "\u001B[1;31m---------------------------------------------------------------------------\u001B[0m",
      "\u001B[1;31mNameError\u001B[0m                                 Traceback (most recent call last)",
      "Input \u001B[1;32mIn [18]\u001B[0m, in \u001B[0;36m<cell line: 1>\u001B[1;34m()\u001B[0m\n\u001B[1;32m----> 1\u001B[0m \u001B[43ml\u001B[49m\n",
      "\u001B[1;31mNameError\u001B[0m: name 'l' is not defined"
     ]
    }
   ],
   "source": [
    "l"
   ],
   "metadata": {
    "collapsed": false
   }
  },
  {
   "cell_type": "code",
   "execution_count": 19,
   "outputs": [
    {
     "name": "stdout",
     "output_type": "stream",
     "text": [
      "[[-287.75498184   14.08358564]\n",
      " [ -99.08985875 -266.53811523]\n",
      " [ 403.09719608  -36.1020556 ]\n",
      " ...\n",
      " [-260.11959022   65.45980114]\n",
      " [-258.81520871   66.2453953 ]\n",
      " [-102.34588997 -214.47287224]]\n"
     ]
    }
   ],
   "source": [
    "print(S)"
   ],
   "metadata": {
    "collapsed": false
   }
  },
  {
   "cell_type": "code",
   "execution_count": 66,
   "outputs": [
    {
     "data": {
      "text/plain": "Counter({0: 1798})"
     },
     "execution_count": 66,
     "metadata": {},
     "output_type": "execute_result"
    }
   ],
   "source": [
    "\n"
   ],
   "metadata": {
    "collapsed": false
   }
  },
  {
   "cell_type": "code",
   "execution_count": null,
   "outputs": [],
   "source": [
    "final_seqs"
   ],
   "metadata": {
    "collapsed": false
   }
  }
 ],
 "metadata": {
  "kernelspec": {
   "display_name": "Python 3",
   "language": "python",
   "name": "python3"
  },
  "language_info": {
   "codemirror_mode": {
    "name": "ipython",
    "version": 2
   },
   "file_extension": ".py",
   "mimetype": "text/x-python",
   "name": "python",
   "nbconvert_exporter": "python",
   "pygments_lexer": "ipython2",
   "version": "2.7.6"
  }
 },
 "nbformat": 4,
 "nbformat_minor": 0
}
