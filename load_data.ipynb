{
 "cells": [
  {
   "cell_type": "code",
   "execution_count": null,
   "outputs": [],
   "source": [
    "import Bio\n",
    "import Bio.Cluster\n",
    "from Bio import SeqIO\n",
    "from Bio import AlignIO\n",
    "from Bio import pairwise2\n",
    "from scipy.spatial import distance\n",
    "import os\n",
    "import threading\n",
    "from concurrent.futures import ThreadPoolExecutor\n",
    "from concurrent.futures import ProcessPoolExecutor\n",
    "from sklearn.cluster import SpectralClustering, DBSCAN\n",
    "from collections import Counter\n",
    "from Bio.Cluster import distancematrix\n",
    "from Bio.Phylo.TreeConstruction import DistanceCalculator\n",
    "import numpy as np\n",
    "import matplotlib.pyplot as plt\n"
   ],
   "metadata": {
    "collapsed": false,
    "pycharm": {
     "name": "#%%\n"
    }
   }
  },
  {
   "cell_type": "code",
   "execution_count": null,
   "outputs": [],
   "source": [
    "DATA_PATH = \"data/DRB_filtered_reads/\""
   ],
   "metadata": {
    "collapsed": false,
    "pycharm": {
     "name": "#%%\n"
    }
   }
  },
  {
   "cell_type": "code",
   "execution_count": null,
   "outputs": [],
   "source": [
    "allFiles = os.listdir(DATA_PATH)\n",
    "\n",
    "seqs = []\n",
    "\n",
    "for file in allFiles[3:4]:\n",
    "    sequences = []\n",
    "\n",
    "    for record in SeqIO.parse(DATA_PATH + file, \"fastq\"):\n",
    "        sequences.append(record.seq)\n",
    "\n",
    "    print(len(sequences))\n",
    "\n",
    "    seqs = sequences\n"
   ],
   "metadata": {
    "collapsed": false,
    "pycharm": {
     "name": "#%%\n"
    }
   }
  },
  {
   "cell_type": "code",
   "execution_count": null,
   "outputs": [],
   "source": [
    "useqs = list(set(seqs))\n",
    "usegsCounts = [seqs.count(x) for x in useqs]\n",
    "usegsCounts,len(useqs)"
   ],
   "metadata": {
    "collapsed": false,
    "pycharm": {
     "name": "#%%\n"
    }
   }
  },
  {
   "cell_type": "code",
   "execution_count": null,
   "outputs": [],
   "source": [
    "spectral = SpectralClustering(\n",
    "        n_clusters=6,\n",
    "        eigen_solver=\"arpack\",\n",
    "        assign_labels=\"cluster_qr\",\n",
    "        affinity=\"precomputed_nearest_neighbors\",\n",
    ")\n",
    "\n",
    "dbscan = DBSCAN(eps=.011, metric='precomputed', min_samples=300)\n",
    "\n",
    "Y  = dbscan.fit_predict(X, sample_weight=usegsCounts)\n",
    "print(len(X))\n",
    "print(len(Y))\n",
    "colors = np.array([\"#4B0082\",\"#008080\",\"#2F4F4F\",\"#D8BFD8\",\"#8B4513\",\"#808080\",\"#FF6347\",\"#F0F8FF\",\"#D3D3D3\",\"#4169E1\",\"#DA70D6\",\"#FFFFFF\",\"#DB7093\",\"#87CEEB\",\"#F8F8FF\",\"#FFB6C1\",\"#FAEBD7\",\"#9ACD32\",\"#A9A9A9\",\"red\"])\n",
    "\n",
    "plt.scatter(X[:, 0], X[:, 1], s=1, color=colors[Y])\n",
    "Y"
   ],
   "metadata": {
    "collapsed": false,
    "pycharm": {
     "name": "#%%\n"
    }
   }
  }
 ],
 "metadata": {
  "kernelspec": {
   "display_name": "Python 3",
   "language": "python",
   "name": "python3"
  },
  "language_info": {
   "codemirror_mode": {
    "name": "ipython",
    "version": 2
   },
   "file_extension": ".py",
   "mimetype": "text/x-python",
   "name": "python",
   "nbconvert_exporter": "python",
   "pygments_lexer": "ipython2",
   "version": "2.7.6"
  }
 },
 "nbformat": 4,
 "nbformat_minor": 0
}